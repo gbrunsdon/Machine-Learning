{
  "cells": [
    {
      "cell_type": "code",
      "execution_count": 1,
      "metadata": {
        "trusted": true
      },
      "outputs": [],
      "source": [
        "# Load the pickled model and the vocabulary that goes with it\n",
        "import pickle\n",
        "from sklearn.feature_extraction.text import CountVectorizer\n",
        "\n",
        "model = pickle.load(open('sentiment_analysis.pkl', 'rb'))\n",
        "vectorizer = CountVectorizer(ngram_range=(1, 2), stop_words=['the', 'and', 'am', 'are'], vocabulary=pickle.load(open('vocabulary.pkl', 'rb')))\n",
        "vectorizer._validate_vocabulary()"
      ]
    },
    {
      "cell_type": "code",
      "execution_count": 2,
      "metadata": {
        "trusted": true
      },
      "outputs": [],
      "source": [
        "# Define a function that takes a string as input and returns a sentiment score\n",
        "import re\n",
        "\n",
        "def analyze_text(text, model, vectorizer):\n",
        "    text = re.sub(\"[.;:!\\'?,\\\"()\\[\\]]\", '', text.lower())\n",
        "    text = re.sub(\"(<br\\s*/><br\\s*/>)|(\\-)|(\\/)\", ' ', text)\n",
        "    return model.predict_proba(vectorizer.transform([text]))[0][1]"
      ]
    },
    {
      "cell_type": "code",
      "execution_count": 3,
      "metadata": {
        "trusted": true
      },
      "outputs": [
        {
          "data": {
            "text/plain": "0.813449616387299"
          },
          "execution_count": 3,
          "metadata": {},
          "output_type": "execute_result"
        }
      ],
      "source": [
        "# Score a text string\n",
        "analyze_text('The best hike in the United States. Fun!', model, vectorizer)"
      ]
    },
    {
      "cell_type": "code",
      "execution_count": 4,
      "metadata": {
        "trusted": true
      },
      "outputs": [
        {
          "data": {
            "text/plain": "0.15456181390302676"
          },
          "execution_count": 4,
          "metadata": {},
          "output_type": "execute_result"
        }
      ],
      "source": [
        "# Score another text string\n",
        "analyze_text('The long lines and poor customer service really turned me off', model, vectorizer)"
      ]
    },
    {
      "cell_type": "code",
      "execution_count": null,
      "metadata": {
        "trusted": true
      },
      "outputs": [],
      "source": []
    }
  ],
  "metadata": {
    "kernelspec": {
      "name": "python36",
      "display_name": "Python 3.6",
      "language": "python"
    },
    "language_info": {
      "mimetype": "text/x-python",
      "nbconvert_exporter": "python",
      "name": "python",
      "pygments_lexer": "ipython3",
      "version": "3.6.6",
      "file_extension": ".py",
      "codemirror_mode": {
        "version": 3,
        "name": "ipython"
      }
    }
  },
  "nbformat": 4,
  "nbformat_minor": 2
}