{
  "cells": [
    {
      "cell_type": "code",
      "execution_count": 1,
      "metadata": {
        "scrolled": true,
        "trusted": true
      },
      "outputs": [],
      "source": [
        "# Copy the dataset from blob storage\n",
        "# !curl https://jeffpro.blob.core.windows.net/public/reviews.csv -o reviews.txt"
      ]
    },
    {
      "cell_type": "code",
      "execution_count": 2,
      "metadata": {
        "trusted": true
      },
      "outputs": [
        {
          "data": {
            "text/html": "<div>\n<style scoped>\n    .dataframe tbody tr th:only-of-type {\n        vertical-align: middle;\n    }\n\n    .dataframe tbody tr th {\n        vertical-align: top;\n    }\n\n    .dataframe thead th {\n        text-align: right;\n    }\n</style>\n<table border=\"1\" class=\"dataframe\">\n  <thead>\n    <tr style=\"text-align: right;\">\n      <th></th>\n      <th>Text</th>\n      <th>Sentiment</th>\n    </tr>\n  </thead>\n  <tbody>\n    <tr>\n      <th>0</th>\n      <td>Once again Mr. Costner has dragged out a movie...</td>\n      <td>0</td>\n    </tr>\n    <tr>\n      <th>1</th>\n      <td>This is an example of why the majority of acti...</td>\n      <td>0</td>\n    </tr>\n    <tr>\n      <th>2</th>\n      <td>First of all I hate those moronic rappers, who...</td>\n      <td>0</td>\n    </tr>\n    <tr>\n      <th>3</th>\n      <td>Not even the Beatles could write songs everyon...</td>\n      <td>0</td>\n    </tr>\n    <tr>\n      <th>4</th>\n      <td>Brass pictures (movies is not a fitting word f...</td>\n      <td>0</td>\n    </tr>\n    <tr>\n      <th>5</th>\n      <td>A funny thing happened to me while watching \"M...</td>\n      <td>0</td>\n    </tr>\n    <tr>\n      <th>6</th>\n      <td>This German horror film has to be one of the w...</td>\n      <td>0</td>\n    </tr>\n    <tr>\n      <th>7</th>\n      <td>Being a long-time fan of Japanese film, I expe...</td>\n      <td>0</td>\n    </tr>\n    <tr>\n      <th>8</th>\n      <td>\"Tokyo Eyes\" tells of a 17 year old Japanese g...</td>\n      <td>0</td>\n    </tr>\n    <tr>\n      <th>9</th>\n      <td>Wealthy horse ranchers in Buenos Aires have a ...</td>\n      <td>0</td>\n    </tr>\n  </tbody>\n</table>\n</div>",
            "text/plain": "                                                Text  Sentiment\n0  Once again Mr. Costner has dragged out a movie...          0\n1  This is an example of why the majority of acti...          0\n2  First of all I hate those moronic rappers, who...          0\n3  Not even the Beatles could write songs everyon...          0\n4  Brass pictures (movies is not a fitting word f...          0\n5  A funny thing happened to me while watching \"M...          0\n6  This German horror film has to be one of the w...          0\n7  Being a long-time fan of Japanese film, I expe...          0\n8  \"Tokyo Eyes\" tells of a 17 year old Japanese g...          0\n9  Wealthy horse ranchers in Buenos Aires have a ...          0"
          },
          "execution_count": 2,
          "metadata": {},
          "output_type": "execute_result"
        }
      ],
      "source": [
        "# Load the data\n",
        "import pandas as pd\n",
        "\n",
        "df = pd.read_csv('Data/reviews.csv', encoding=\"ISO-8859-1\")\n",
        "df.head(10)"
      ]
    },
    {
      "cell_type": "code",
      "execution_count": 3,
      "metadata": {
        "trusted": true
      },
      "outputs": [
        {
          "data": {
            "text/html": "<div>\n<style scoped>\n    .dataframe tbody tr th:only-of-type {\n        vertical-align: middle;\n    }\n\n    .dataframe tbody tr th {\n        vertical-align: top;\n    }\n\n    .dataframe thead th {\n        text-align: right;\n    }\n</style>\n<table border=\"1\" class=\"dataframe\">\n  <thead>\n    <tr style=\"text-align: right;\">\n      <th></th>\n      <th>Text</th>\n      <th>Sentiment</th>\n    </tr>\n  </thead>\n  <tbody>\n    <tr>\n      <th>0</th>\n      <td>once again mr costner has dragged out a movie ...</td>\n      <td>0</td>\n    </tr>\n    <tr>\n      <th>1</th>\n      <td>this is an example of why the majority of acti...</td>\n      <td>0</td>\n    </tr>\n    <tr>\n      <th>2</th>\n      <td>first of all i hate those moronic rappers who ...</td>\n      <td>0</td>\n    </tr>\n    <tr>\n      <th>3</th>\n      <td>not even the beatles could write songs everyon...</td>\n      <td>0</td>\n    </tr>\n    <tr>\n      <th>4</th>\n      <td>brass pictures movies is not a fitting word fo...</td>\n      <td>0</td>\n    </tr>\n    <tr>\n      <th>5</th>\n      <td>a funny thing happened to me while watching mo...</td>\n      <td>0</td>\n    </tr>\n    <tr>\n      <th>6</th>\n      <td>this german horror film has to be one of the w...</td>\n      <td>0</td>\n    </tr>\n    <tr>\n      <th>7</th>\n      <td>being a long time fan of japanese film i expec...</td>\n      <td>0</td>\n    </tr>\n    <tr>\n      <th>8</th>\n      <td>tokyo eyes tells of a 17 year old japanese gir...</td>\n      <td>0</td>\n    </tr>\n    <tr>\n      <th>9</th>\n      <td>wealthy horse ranchers in buenos aires have a ...</td>\n      <td>0</td>\n    </tr>\n  </tbody>\n</table>\n</div>",
            "text/plain": "                                                Text  Sentiment\n0  once again mr costner has dragged out a movie ...          0\n1  this is an example of why the majority of acti...          0\n2  first of all i hate those moronic rappers who ...          0\n3  not even the beatles could write songs everyon...          0\n4  brass pictures movies is not a fitting word fo...          0\n5  a funny thing happened to me while watching mo...          0\n6  this german horror film has to be one of the w...          0\n7  being a long time fan of japanese film i expec...          0\n8  tokyo eyes tells of a 17 year old japanese gir...          0\n9  wealthy horse ranchers in buenos aires have a ...          0"
          },
          "execution_count": 3,
          "metadata": {},
          "output_type": "execute_result"
        }
      ],
      "source": [
        "# Clean the data\n",
        "df['Text'] = df['Text'].str.lower()\n",
        "df['Text'] = df['Text'].str.replace(\"[.;:!\\'?,\\\"()\\[\\]]\", '')\n",
        "df['Text'] = df['Text'].str.replace(\"(<br\\s*/><br\\s*/>)|(\\-)|(\\/)\", ' ')\n",
        "df.head(10)"
      ]
    },
    {
      "cell_type": "code",
      "execution_count": 4,
      "metadata": {
        "trusted": true
      },
      "outputs": [],
      "source": [
        "# Vectorize the text\n",
        "from sklearn.feature_extraction.text import CountVectorizer\n",
        "\n",
        "vectorizer = CountVectorizer(ngram_range=(1, 2), stop_words=['the', 'and', 'am', 'are'], min_df=10)\n",
        "vectors = vectorizer.fit_transform(df['Text'])"
      ]
    },
    {
      "cell_type": "code",
      "execution_count": 5,
      "metadata": {
        "trusted": true
      },
      "outputs": [],
      "source": [
        "# Split the dataset into a training set and a test set\n",
        "from sklearn.model_selection import train_test_split\n",
        "\n",
        "x_train, x_test, y_train, y_test = train_test_split(vectors, df['Sentiment'], test_size=0.2, random_state=0)"
      ]
    },
    {
      "cell_type": "code",
      "execution_count": 6,
      "metadata": {
        "trusted": true
      },
      "outputs": [
        {
          "name": "stderr",
          "output_type": "stream",
          "text": "/home/nbuser/anaconda3_501/lib/python3.6/site-packages/sklearn/linear_model/logistic.py:433: FutureWarning: Default solver will be changed to 'lbfgs' in 0.22. Specify a solver to silence this warning.\n  FutureWarning)\n"
        },
        {
          "data": {
            "text/plain": "LogisticRegression(C=1.0, class_weight=None, dual=False, fit_intercept=True,\n          intercept_scaling=1, max_iter=100, multi_class='warn',\n          n_jobs=None, penalty='l2', random_state=None, solver='warn',\n          tol=0.0001, verbose=0, warm_start=False)"
          },
          "execution_count": 6,
          "metadata": {},
          "output_type": "execute_result"
        }
      ],
      "source": [
        "# Train a classifier\n",
        "from sklearn.linear_model import LogisticRegression\n",
        "\n",
        "model = LogisticRegression()\n",
        "model.fit(x_train, y_train)"
      ]
    },
    {
      "cell_type": "code",
      "execution_count": 7,
      "metadata": {
        "trusted": true
      },
      "outputs": [
        {
          "data": {
            "text/plain": "0.9093"
          },
          "execution_count": 7,
          "metadata": {},
          "output_type": "execute_result"
        }
      ],
      "source": [
        "# Score the model\n",
        "model.score(x_test, y_test)"
      ]
    },
    {
      "cell_type": "code",
      "execution_count": 8,
      "metadata": {
        "trusted": true
      },
      "outputs": [
        {
          "data": {
            "text/plain": "array([[4534,  468],\n       [ 439, 4559]])"
          },
          "execution_count": 8,
          "metadata": {},
          "output_type": "execute_result"
        }
      ],
      "source": [
        "# Assess accuracy with a confusion matrix\n",
        "from sklearn.metrics import confusion_matrix\n",
        "\n",
        "confusion_matrix(y_test, model.predict(x_test))"
      ]
    },
    {
      "cell_type": "code",
      "execution_count": 9,
      "metadata": {
        "trusted": true
      },
      "outputs": [
        {
          "data": {
            "text/plain": "0.15456181390302676"
          },
          "execution_count": 9,
          "metadata": {},
          "output_type": "execute_result"
        }
      ],
      "source": [
        "# Score a review\n",
        "review = ['The long lines and poor customer service really turned me off']\n",
        "model.predict_proba(vectorizer.transform(review))[0][1]"
      ]
    },
    {
      "cell_type": "code",
      "execution_count": 10,
      "metadata": {
        "trusted": true
      },
      "outputs": [
        {
          "data": {
            "text/plain": "0.813449616387299"
          },
          "execution_count": 10,
          "metadata": {},
          "output_type": "execute_result"
        }
      ],
      "source": [
        "# Score another review\n",
        "review = ['The best hike in the United States. Fun!']\n",
        "model.predict_proba(vectorizer.transform(review))[0][1]"
      ]
    },
    {
      "cell_type": "code",
      "execution_count": 11,
      "metadata": {
        "trusted": true
      },
      "outputs": [],
      "source": [
        "# Save the model and the vocabulary\n",
        "import pickle\n",
        "\n",
        "pickle.dump(model, open('sentiment_analysis.pkl', 'wb'))\n",
        "pickle.dump(vectorizer.vocabulary_, open('vocabulary.pkl', 'wb'))"
      ]
    },
    {
      "cell_type": "code",
      "execution_count": null,
      "metadata": {
        "trusted": true
      },
      "outputs": [],
      "source": []
    }
  ],
  "metadata": {
    "kernelspec": {
      "name": "python36",
      "display_name": "Python 3.6",
      "language": "python"
    },
    "language_info": {
      "mimetype": "text/x-python",
      "nbconvert_exporter": "python",
      "name": "python",
      "pygments_lexer": "ipython3",
      "version": "3.6.6",
      "file_extension": ".py",
      "codemirror_mode": {
        "version": 3,
        "name": "ipython"
      }
    }
  },
  "nbformat": 4,
  "nbformat_minor": 2
}