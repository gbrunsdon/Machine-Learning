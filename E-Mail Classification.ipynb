{
  "cells": [
    {
      "metadata": {
        "trusted": true,
        "scrolled": true
      },
      "cell_type": "code",
      "source": "import pandas as pd\n\ndf = pd.read_csv('Data/ham-spam.csv')\ndf.head()",
      "execution_count": 1,
      "outputs": [
        {
          "output_type": "execute_result",
          "execution_count": 1,
          "data": {
            "text/html": "<div>\n<style scoped>\n    .dataframe tbody tr th:only-of-type {\n        vertical-align: middle;\n    }\n\n    .dataframe tbody tr th {\n        vertical-align: top;\n    }\n\n    .dataframe thead th {\n        text-align: right;\n    }\n</style>\n<table border=\"1\" class=\"dataframe\">\n  <thead>\n    <tr style=\"text-align: right;\">\n      <th></th>\n      <th>IsSpam</th>\n      <th>Text</th>\n    </tr>\n  </thead>\n  <tbody>\n    <tr>\n      <th>0</th>\n      <td>0</td>\n      <td>key issues going forwarda year end reviews rep...</td>\n    </tr>\n    <tr>\n      <th>1</th>\n      <td>0</td>\n      <td>congrats contratulations the execution the cen...</td>\n    </tr>\n    <tr>\n      <th>2</th>\n      <td>0</td>\n      <td>key issues going forwardall under control set...</td>\n    </tr>\n    <tr>\n      <th>3</th>\n      <td>0</td>\n      <td>epmi files protest entergy transcoattached our...</td>\n    </tr>\n    <tr>\n      <th>4</th>\n      <td>0</td>\n      <td>california power please contact kristin walsh ...</td>\n    </tr>\n  </tbody>\n</table>\n</div>",
            "text/plain": "   IsSpam                                               Text\n0       0  key issues going forwarda year end reviews rep...\n1       0  congrats contratulations the execution the cen...\n2       0   key issues going forwardall under control set...\n3       0  epmi files protest entergy transcoattached our...\n4       0  california power please contact kristin walsh ..."
          },
          "metadata": {}
        }
      ]
    },
    {
      "metadata": {
        "trusted": true
      },
      "cell_type": "code",
      "source": "df.groupby('IsSpam').describe()",
      "execution_count": 2,
      "outputs": [
        {
          "output_type": "execute_result",
          "execution_count": 2,
          "data": {
            "text/html": "<div>\n<style scoped>\n    .dataframe tbody tr th:only-of-type {\n        vertical-align: middle;\n    }\n\n    .dataframe tbody tr th {\n        vertical-align: top;\n    }\n\n    .dataframe thead tr th {\n        text-align: left;\n    }\n\n    .dataframe thead tr:last-of-type th {\n        text-align: right;\n    }\n</style>\n<table border=\"1\" class=\"dataframe\">\n  <thead>\n    <tr>\n      <th></th>\n      <th colspan=\"4\" halign=\"left\">Text</th>\n    </tr>\n    <tr>\n      <th></th>\n      <th>count</th>\n      <th>unique</th>\n      <th>top</th>\n      <th>freq</th>\n    </tr>\n    <tr>\n      <th>IsSpam</th>\n      <th></th>\n      <th></th>\n      <th></th>\n      <th></th>\n    </tr>\n  </thead>\n  <tbody>\n    <tr>\n      <th>0</th>\n      <td>500</td>\n      <td>499</td>\n      <td>paso firm capacity award memorandumlouise del...</td>\n      <td>2</td>\n    </tr>\n    <tr>\n      <th>1</th>\n      <td>500</td>\n      <td>500</td>\n      <td>get discount drugs without prescriptiondiscoun...</td>\n      <td>1</td>\n    </tr>\n  </tbody>\n</table>\n</div>",
            "text/plain": "        Text                                                               \n       count unique                                                top freq\nIsSpam                                                                     \n0        500    499   paso firm capacity award memorandumlouise del...    2\n1        500    500  get discount drugs without prescriptiondiscoun...    1"
          },
          "metadata": {}
        }
      ]
    },
    {
      "metadata": {
        "trusted": true
      },
      "cell_type": "code",
      "source": "df = df.drop_duplicates()\ndf.groupby('IsSpam').describe()",
      "execution_count": 3,
      "outputs": [
        {
          "output_type": "execute_result",
          "execution_count": 3,
          "data": {
            "text/html": "<div>\n<style scoped>\n    .dataframe tbody tr th:only-of-type {\n        vertical-align: middle;\n    }\n\n    .dataframe tbody tr th {\n        vertical-align: top;\n    }\n\n    .dataframe thead tr th {\n        text-align: left;\n    }\n\n    .dataframe thead tr:last-of-type th {\n        text-align: right;\n    }\n</style>\n<table border=\"1\" class=\"dataframe\">\n  <thead>\n    <tr>\n      <th></th>\n      <th colspan=\"4\" halign=\"left\">Text</th>\n    </tr>\n    <tr>\n      <th></th>\n      <th>count</th>\n      <th>unique</th>\n      <th>top</th>\n      <th>freq</th>\n    </tr>\n    <tr>\n      <th>IsSpam</th>\n      <th></th>\n      <th></th>\n      <th></th>\n      <th></th>\n    </tr>\n  </thead>\n  <tbody>\n    <tr>\n      <th>0</th>\n      <td>499</td>\n      <td>499</td>\n      <td>the cre public consultation proposals cera ins...</td>\n      <td>1</td>\n    </tr>\n    <tr>\n      <th>1</th>\n      <td>500</td>\n      <td>500</td>\n      <td>get discount drugs without prescriptiondiscoun...</td>\n      <td>1</td>\n    </tr>\n  </tbody>\n</table>\n</div>",
            "text/plain": "        Text                                                               \n       count unique                                                top freq\nIsSpam                                                                     \n0        499    499  the cre public consultation proposals cera ins...    1\n1        500    500  get discount drugs without prescriptiondiscoun...    1"
          },
          "metadata": {}
        }
      ]
    },
    {
      "metadata": {
        "trusted": true
      },
      "cell_type": "code",
      "source": "# Build a vocabulary of word counts from the words in the 'Text' column\nfrom sklearn.feature_extraction.text import CountVectorizer\n\nvectorizer = CountVectorizer(ngram_range=(1, 2), stop_words=['the', 'and', 'are', 'not'])\nvectorizer.fit(df['Text'])",
      "execution_count": 4,
      "outputs": [
        {
          "output_type": "execute_result",
          "execution_count": 4,
          "data": {
            "text/plain": "CountVectorizer(analyzer='word', binary=False, decode_error='strict',\n        dtype=<class 'numpy.int64'>, encoding='utf-8', input='content',\n        lowercase=True, max_df=1.0, max_features=None, min_df=1,\n        ngram_range=(1, 2), preprocessor=None,\n        stop_words=['the', 'and', 'are', 'not'], strip_accents=None,\n        token_pattern='(?u)\\\\b\\\\w\\\\w+\\\\b', tokenizer=None, vocabulary=None)"
          },
          "metadata": {}
        }
      ]
    },
    {
      "metadata": {
        "trusted": true
      },
      "cell_type": "code",
      "source": "# Show the vocabulary built by the vectorizer\nvectorizer.vocabulary_",
      "execution_count": 5,
      "outputs": [
        {
          "output_type": "execute_result",
          "execution_count": 5,
          "data": {
            "text/plain": "{'key': 55587,\n 'issues': 53692,\n 'going': 44140,\n 'forwarda': 40891,\n 'year': 112798,\n 'end': 33600,\n 'reviews': 85111,\n 'report': 83789,\n 'needs': 66557,\n 'generating': 43186,\n 'like': 57996,\n 'mid': 63361,\n 'documenting': 29808,\n 'business': 14189,\n 'unit': 104245,\n 'performance': 74332,\n 'review': 85033,\n 'completion': 20928,\n 'david': 25721,\n 'john': 54624,\n 'work': 111682,\n 'out': 71777,\n 'plan': 75446,\n 'generation': 43195,\n 'for': 39642,\n 'nim': 67429,\n 'employees': 33392,\n 'hpl': 49361,\n 'transition': 102585,\n 'ongoing': 69956,\n 'officially': 69346,\n 'transferred': 102542,\n 'regardsdelainey': 82909,\n 'key issues': 55597,\n 'issues going': 53719,\n 'going forwarda': 44159,\n 'forwarda year': 40892,\n 'year end': 112825,\n 'end reviews': 33636,\n 'reviews report': 85118,\n 'report needs': 83822,\n 'needs generating': 66567,\n 'generating like': 43189,\n 'like mid': 58078,\n 'mid year': 63375,\n 'year documenting': 112824,\n 'documenting business': 29809,\n 'business unit': 14291,\n 'unit performance': 104255,\n 'performance review': 74359,\n 'review completion': 85050,\n 'completion david': 20931,\n 'david john': 25737,\n 'john work': 54690,\n 'work out': 111721,\n 'out plan': 71893,\n 'plan generation': 75474,\n 'generation for': 43206,\n 'for nim': 40090,\n 'nim issues': 67430,\n 'issues employees': 53709,\n 'employees david': 33398,\n 'john hpl': 54654,\n 'hpl transition': 49388,\n 'transition issues': 102591,\n 'issues ongoing': 53737,\n 'ongoing officially': 69961,\n 'officially transferred': 69352,\n 'transferred regardsdelainey': 102552,\n 'congrats': 21664,\n 'contratulations': 22620,\n 'execution': 36221,\n 'central': 16873,\n 'maine': 60353,\n 'sos': 92053,\n 'deal': 26113,\n 'this': 99685,\n 'another': 5477,\n 'great': 44801,\n 'example': 36020,\n 'what': 108902,\n 'can': 15425,\n 'when': 109071,\n 'everyone': 35894,\n 'comes': 19937,\n 'together': 101556,\n 'get': 43456,\n 'something': 91839,\n 'done': 30211,\n 'transaction': 102368,\n 'brings': 13516,\n 'both': 12873,\n 'strategic': 93935,\n 'value': 105753,\n 'nice': 67321,\n 'positions': 76667,\n 'book': 12702,\n 'quite': 81106,\n 'chunk': 18095,\n 'change': 17242,\n 'well': 108496,\n 'job': 54569,\n 'guys': 45527,\n 'hey': 47985,\n 'dana': 25350,\n 'you': 113209,\n 'paying': 73748,\n 'celebration': 16761,\n 'dinner': 28806,\n 'congrats contratulations': 21665,\n 'contratulations execution': 22621,\n 'execution central': 36222,\n 'central maine': 16879,\n 'maine sos': 60355,\n 'sos deal': 92054,\n 'deal this': 26213,\n 'this another': 99714,\n 'another great': 5493,\n 'great example': 44812,\n 'example what': 36040,\n 'what can': 108913,\n 'can when': 15618,\n 'when everyone': 109093,\n 'everyone comes': 35899,\n 'comes together': 19945,\n 'together get': 101568,\n 'get something': 43591,\n 'something done': 91845,\n 'done this': 30242,\n 'this transaction': 100182,\n 'transaction brings': 102379,\n 'brings both': 13517,\n 'both strategic': 12928,\n 'strategic value': 93940,\n 'value business': 105763,\n 'business nice': 14244,\n 'nice positions': 67327,\n 'positions for': 76671,\n 'for book': 39715,\n 'book quite': 12711,\n 'quite nice': 81114,\n 'nice chunk': 67322,\n 'chunk change': 18096,\n 'change well': 17274,\n 'well great': 108528,\n 'great job': 44822,\n 'job guys': 54577,\n 'guys hey': 45533,\n 'hey dana': 47987,\n 'dana you': 25358,\n 'you paying': 113568,\n 'paying for': 73753,\n 'for celebration': 39738,\n 'celebration dinner': 16762,\n 'forwardall': 40893,\n 'under': 103902,\n 'control': 22656,\n 'set': 88958,\n 'group': 45057,\n 'cindy': 18195,\n 'skinner': 90946,\n 'will': 109846,\n 'producing': 78707,\n 'stats': 93336,\n 'making': 60584,\n 'sure': 95324,\n 'don': 30131,\n 'cop': 22877,\n 'above': 377,\n 'several': 89097,\n 'have': 46418,\n 'gone': 44261,\n 'across': 1143,\n 'wholesale': 109687,\n 'already': 3884,\n 'show': 89977,\n 'progress': 79087,\n 'others': 71340,\n 'fair': 37220,\n 'say': 87100,\n 'total': 102002,\n 'clarity': 18571,\n 'direction': 28917,\n 'here': 47546,\n 'now': 68097,\n 'all': 3244,\n 'memo': 62768,\n 'monday': 64321,\n 'olson': 69690,\n 'has': 46140,\n 'sent': 88545,\n 'email': 33090,\n 'community': 20413,\n 'embargo': 33219,\n 'staff': 92833,\n 'believe': 10827,\n 'mark': 61234,\n 'drafting': 30658,\n 'other': 71200,\n 'otc': 71176,\n 'fran': 41125,\n 'michele': 63307,\n 'cash': 16367,\n 'also': 3938,\n 'put': 80412,\n 'guy': 45520,\n 'yesterday': 113045,\n 'hand': 45835,\n 'daviddavid': 25761,\n 'delainey': 26989,\n 'pmto': 76026,\n 'lavorato': 56863,\n 'corp': 23043,\n 'enron': 34054,\n 'oxley': 72487,\n 'hou': 49068,\n 'ect': 31926,\n 'ectcc': 32085,\n 'frevert': 41379,\n 'greg': 44922,\n 'whalley': 108896,\n 'louise': 59485,\n 'kitchen': 55889,\n 'ectsubject': 32113,\n 'going forwardall': 44160,\n 'forwardall under': 40894,\n 'under control': 103924,\n 'control set': 22687,\n 'set work': 89007,\n 'out group': 71835,\n 'group under': 45129,\n 'under cindy': 103917,\n 'cindy skinner': 18202,\n 'skinner will': 90950,\n 'will producing': 110155,\n 'producing stats': 78711,\n 'stats making': 93338,\n 'making sure': 60604,\n 'sure don': 95328,\n 'don cop': 30143,\n 'cop out': 22880,\n 'out above': 71780,\n 'above several': 405,\n 'several have': 89107,\n 'have gone': 46608,\n 'gone across': 44262,\n 'across wholesale': 1164,\n 'wholesale already': 109688,\n 'already stats': 3918,\n 'stats will': 93339,\n 'will show': 110242,\n 'show this': 89993,\n 'this progress': 100051,\n 'progress others': 79101,\n 'others fair': 71344,\n 'fair say': 37229,\n 'say have': 87103,\n 'have total': 46825,\n 'total clarity': 102010,\n 'clarity direction': 18572,\n 'direction here': 28920,\n 'here now': 47606,\n 'now all': 68102,\n 'all memo': 3369,\n 'memo will': 62785,\n 'will out': 110135,\n 'out monday': 71869,\n 'monday cindy': 64328,\n 'cindy olson': 18199,\n 'olson has': 69694,\n 'has sent': 46314,\n 'sent email': 88554,\n 'email community': 33116,\n 'community embargo': 20418,\n 'embargo hpl': 33220,\n 'hpl staff': 49380,\n 'staff believe': 92837,\n 'believe mark': 10840,\n 'mark drafting': 61243,\n 'drafting something': 30660,\n 'something for': 91849,\n 'for other': 40118,\n 'other otc': 71275,\n 'otc fran': 71183,\n 'fran michele': 41132,\n 'michele cash': 63309,\n 'cash also': 16371,\n 'also put': 4044,\n 'put another': 80415,\n 'another guy': 5494,\n 'guy this': 45525,\n 'this yesterday': 100219,\n 'yesterday have': 113065,\n 'have all': 46438,\n 'all hand': 3329,\n 'hand daviddavid': 45836,\n 'daviddavid delainey': 25762,\n 'delainey pmto': 27006,\n 'pmto john': 76053,\n 'john lavorato': 54659,\n 'lavorato corp': 56865,\n 'corp enron': 23050,\n 'enron david': 34136,\n 'david oxley': 25745,\n 'oxley hou': 72493,\n 'hou ect': 49069,\n 'ect ectcc': 31968,\n 'ectcc mark': 32101,\n 'mark frevert': 61248,\n 'frevert enron': 41382,\n 'enron enron': 34161,\n 'enron greg': 34197,\n 'greg whalley': 44937,\n 'whalley hou': 108899,\n 'ect ect': 31967,\n 'ect louise': 32025,\n 'louise kitchen': 59506,\n 'kitchen hou': 55900,\n 'ect ectsubject': 31969,\n 'ectsubject key': 32129,\n 'epmi': 34900,\n 'files': 38372,\n 'protest': 79696,\n 'entergy': 34648,\n 'transcoattached': 102483,\n 'our': 71402,\n 'filing': 38387,\n 'made': 60055,\n 'protesting': 79700,\n 'proposed': 79535,\n 'transco': 102479,\n 'rate': 81449,\n 'premature': 77448,\n 'until': 104521,\n 'filed': 38356,\n 'join': 54727,\n 'sppno': 92644,\n 'support': 95220,\n 'its': 53900,\n 'innovative': 51968,\n 'rates': 81521,\n 'would': 112020,\n 'customer': 24988,\n 'funded': 42360,\n 'transmission': 102601,\n 'project': 79129,\n 'development': 28160,\n 'fee': 37848,\n 'extra': 36909,\n 'basis': 9829,\n 'points': 76209,\n 'certain': 16996,\n 'projects': 79250,\n 'exact': 35990,\n 'recovery': 82369,\n 'mechanismrequest': 62306,\n 'that': 97563,\n 'commission': 20154,\n 'require': 84105,\n 'grandfathered': 44691,\n 'contracts': 22522,\n 'addressedexpress': 1610,\n 'concern': 21236,\n 'request': 84044,\n 'continue': 22324,\n 'problematic': 78469,\n 'source': 92082,\n 'sink': 90649,\n 'limitations': 58223,\n 'forwarded': 40895,\n 'christi': 18013,\n 'nicolay': 67351,\n 'andrea': 5064,\n 'settanni': 89017,\n 'subject': 94308,\n 'rto': 86140,\n 'rtol': 86156,\n 'wpd': 112245,\n 'entergyr': 34655,\n 'epmi files': 34904,\n 'files protest': 38379,\n 'protest entergy': 79697,\n 'entergy transcoattached': 34653,\n 'transcoattached our': 102484,\n 'our filing': 71506,\n 'filing made': 38412,\n 'made yesterday': 60132,\n 'yesterday protesting': 113071,\n 'protesting entergy': 79701,\n 'entergy proposed': 34650,\n 'proposed transco': 79573,\n 'transco rate': 102482,\n 'rate issues': 81474,\n 'issues premature': 53743,\n 'premature until': 77449,\n 'until entergy': 104537,\n 'entergy has': 34649,\n 'has filed': 46211,\n 'filed join': 38361,\n 'join sppno': 54732,\n 'sppno support': 92645,\n 'support for': 95234,\n 'for its': 39991,\n 'its proposed': 54002,\n 'proposed innovative': 79553,\n 'innovative rates': 51971,\n 'rates for': 81535,\n 'for example': 39862,\n 'example entergy': 36025,\n 'entergy would': 34654,\n 'would get': 112091,\n 'get customer': 43491,\n 'customer funded': 25004,\n 'funded transmission': 42364,\n 'transmission project': 102625,\n 'project development': 79146,\n 'development fee': 28194,\n 'fee extra': 37854,\n 'extra basis': 36910,\n 'basis points': 9860,\n 'points for': 76211,\n 'for certain': 39740,\n 'certain projects': 17012,\n 'projects exact': 79261,\n 'exact recovery': 35994,\n 'recovery mechanismrequest': 82376,\n 'mechanismrequest that': 62307,\n 'that commission': 97649,\n 'commission require': 20163,\n 'require grandfathered': 84118,\n 'grandfathered contracts': 44692,\n 'contracts addressedexpress': 22525,\n 'addressedexpress concern': 1611,\n 'concern entergy': 21240,\n 'entergy request': 34651,\n 'request continue': 84049,\n 'continue problematic': 22350,\n 'problematic source': 78470,\n 'source sink': 92106,\n 'sink limitations': 90650,\n 'limitations forwarded': 58225,\n 'forwarded christi': 40902,\n 'christi nicolay': 18014,\n 'nicolay hou': 67353,\n 'ect andrea': 31929,\n 'andrea settanni': 5065,\n 'settanni pmto': 89018,\n 'pmto subject': 76085,\n 'subject entergy': 94357,\n 'entergy rto': 34652,\n 'rto protest': 86150,\n 'protest rtol': 79699,\n 'rtol wpd': 86157,\n 'wpd entergyr': 112246,\n 'entergyr wpd': 34656,\n 'california': 15009,\n 'power': 76938,\n 'please': 75784,\n 'contact': 22122,\n 'kristin': 56237,\n 'walsh': 107322,\n 'robert': 85671,\n 'johnston': 54716,\n 'further': 42481,\n 'clarification': 18549,\n 'executive': 36232,\n 'summary': 94915,\n 'utility': 105486,\n 'bankruptcy': 9460,\n 'appears': 6171,\n 'increasingly': 51180,\n 'likely': 58149,\n 'next': 67224,\n 'week': 108247,\n 'unless': 104355,\n 'state': 93070,\n 'clear': 18684,\n 'three': 100505,\n 'hurdles': 49668,\n 'agreement': 2726,\n 'payback': 73736,\n 'bailout': 9143,\n 'increases': 51155,\n 'short': 89788,\n 'term': 96964,\n 'funding': 42369,\n 'dwr': 31369,\n 'purchases': 80291,\n 'disagreement': 29022,\n 'persists': 74561,\n 'between': 11461,\n 'gov': 44448,\n 'davis': 25791,\n 'democrats': 27292,\n 'legislature': 57399,\n 'how': 49198,\n 'should': 89862,\n 'paid': 72715,\n 'back': 8957,\n 'utilities': 105351,\n 'split': 92539,\n 'over': 72099,\n 'stock': 93711,\n 'warrant': 107564,\n 'versus': 106216,\n 'ownership': 72457,\n 'assets': 7534,\n 'economics': 31891,\n 'long': 59089,\n 'appear': 6146,\n 'hikes': 48188,\n 'unavoidable': 103800,\n 'because': 10113,\n 'need': 66376,\n 'amortize': 4583,\n 'undercollected': 103994,\n 'during': 31254,\n 'recent': 82139,\n 'freeze': 41341,\n 'period': 74419,\n 'air': 2941,\n 'quality': 80783,\n 'management': 60703,\n 'district': 29515,\n 'regulations': 83037,\n 'but': 14365,\n 'offer': 69078,\n 'limited': 58229,\n 'scope': 87453,\n 'providing': 79891,\n 'additional': 1494,\n 'capacity': 15855,\n 'feeling': 37896,\n 'intense': 52303,\n 'pressure': 77798,\n 'from': 41497,\n 'left': 57258,\n 'wing': 110506,\n 'consumer': 22066,\n 'groups': 45152,\n 'being': 10732,\n 'forced': 40480,\n 'least': 57127,\n 'slow': 91081,\n 'stop': 93807,\n 'hike': 48182,\n 'plans': 75587,\n 'senator': 88415,\n 'burton': 14129,\n 'eminent': 33307,\n 'domain': 30085,\n 'threats': 100501,\n 'against': 2476,\n 'generators': 43231,\n 'which': 109269,\n 'reflect': 82646,\n 'little': 58673,\n 'significance': 90272,\n 'outlook': 72025,\n 'rising': 85485,\n 'once': 69738,\n 'againa': 2472,\n 'finalize': 38555,\n 'debt': 26426,\n 'workout': 111842,\n 'continues': 22387,\n 'just': 55058,\n 'beyond': 11543,\n 'reach': 81672,\n 'their': 98369,\n 'creditors': 24248,\n 'with': 110686,\n 'time': 100927,\n 'running': 86300,\n 'forbearance': 40452,\n 'arrangement': 7112,\n 'expire': 36687,\n 'tuesday': 103136,\n 'socal': 91317,\n 'edison': 32172,\n 'any': 5713,\n 'bills': 11868,\n 'except': 36085,\n 'payroll': 73880,\n 'they': 99340,\n 'working': 111786,\n 'very': 106241,\n 'hard': 46034,\n 'keep': 55413,\n 'indicated': 51332,\n 'feel': 37877,\n 'close': 18874,\n 'involuntary': 53207,\n 'occurs': 68869,\n 'days': 26000,\n 'either': 32681,\n 'court': 23769,\n 'accepts': 616,\n 'file': 38331,\n 'voluntary': 107025,\n 'opinion': 70414,\n 'within': 111336,\n 'assembly': 7475,\n 'divided': 29574,\n 'respect': 84485,\n 'assemblyman': 7485,\n 'keeley': 55398,\n 'told': 101614,\n 'everything': 35911,\n 'resolved': 84415,\n 'day': 25906,\n 'hurry': 49677,\n 'believes': 10871,\n 'good': 44286,\n 'position': 76589,\n 'strong': 94092,\n 'arm': 6995,\n 'currently': 24855,\n 'does': 29865,\n 'intend': 52279,\n 'cede': 16734,\n 'avoid': 8699,\n 'stated': 93193,\n 'bad': 9091,\n 'worst': 111977,\n 'thing': 99538,\n 'possible': 76733,\n 'intends': 52300,\n 'stick': 93584,\n 'his': 48366,\n 'dismissed': 29344,\n 'governor': 44510,\n 'deadline': 26098,\n 'striking': 94075,\n 'still': 93603,\n 'avoided': 8725,\n 'last': 56651,\n 'minute': 63837,\n 'struck': 94130,\n 'receives': 82123,\n 'return': 84905,\n 'bailoutthe': 9155,\n 'federal': 37813,\n 'expected': 36479,\n 'rule': 86213,\n 'cpuc': 23975,\n 'undercollection': 103997,\n 'case': 16302,\n 'financing': 38708,\n 'available': 8542,\n 'buy': 14611,\n 'more': 64732,\n 'revenue': 84984,\n 'bonds': 12621,\n 'issued': 53648,\n 'may': 61889,\n 'there': 98885,\n 'possibility': 76720,\n 'significant': 90274,\n 'these': 99104,\n 'could': 23424,\n 'lead': 57001,\n 'extension': 36866,\n 'creditor': 24239,\n 'however': 49273,\n 'negative': 66606,\n 'tone': 101778,\n 'taken': 96006,\n 'standard': 92938,\n 'poors': 76401,\n 'concerning': 21264,\n 'delays': 27043,\n 'suggest': 94741,\n 'difficult': 28671,\n 'achieve': 995,\n 'previous': 77902,\n 'was': 107591,\n 'only': 70041,\n 'achieved': 1007,\n 'via': 106401,\n 'high': 48068,\n 'level': 57719,\n 'washington': 107880,\n 'summit': 95017,\n 'happen': 45955,\n 'weekend': 108350,\n 'automatically': 8493,\n 'approved': 6491,\n 'non': 67580,\n 'energy': 33742,\n 'expenditures': 36548,\n 'government': 44465,\n 'risk': 85488,\n 'yet': 113081,\n 'structure': 94133,\n 'place': 75372,\n 'recover': 82354,\n 'costs': 23337,\n 'expended': 36540,\n 'general': 43124,\n 'fund': 42271,\n 'take': 95935,\n 'debtwhile': 26468,\n 'seems': 88115,\n 'succeeded': 94553,\n 'forcing': 40494,\n 'parents': 73006,\n 'eat': 31791,\n 'one': 69778,\n 'third': 99668,\n 'billion': 11807,\n 'final': 38494,\n 'been': 10273,\n 'held': 47247,\n 'two': 103436,\n 'fronts': 42065,\n 'first': 38915,\n 'unclear': 103864,\n 'mix': 64026,\n 'warrants': 107571,\n 'takeover': 96029,\n 'than': 97307,\n 'hydro': 49757,\n 'settled': 89037,\n 'second': 87711,\n 'while': 109457,\n 'hook': 48867,\n 'mixture': 64040,\n 'used': 105099,\n 'cost': 23258,\n 'finally': 38571,\n 'expect': 36429,\n 'politicians': 76293,\n 'minimize': 63769,\n 'although': 4171,\n 'force': 40469,\n 'appearance': 6162,\n 'tangible': 96186,\n 'politically': 76285,\n 'attractive': 8242,\n 'nebulous': 66308,\n 'price': 77945,\n 'purchase': 80232,\n 'valued': 105817,\n 'approximately': 6544,\n 'proceeds': 78533,\n 'though': 100396,\n 'cannot': 15745,\n 'pay': 73683,\n 'off': 68998,\n 'debts': 26461,\n 'some': 91661,\n 'money': 64384,\n 'existing': 36346,\n 'bondholders': 12610,\n 'ipp': 53321,\n 'sources': 92115,\n 'advise': 2004,\n 'bid': 11613,\n 'table': 95835,\n 'higher': 48109,\n 'contractsas': 22573,\n 'noted': 67872,\n 'announcement': 5377,\n 'contracted': 22492,\n 'come': 19857,\n 'line': 58302,\n 'immediately': 50344,\n 'much': 65421,\n 'remainder': 83426,\n 'reportedly': 83869,\n 'suppliers': 95141,\n 'who': 109564,\n 'building': 13909,\n 'plants': 75651,\n 'years': 112901,\n 'expressed': 36811,\n 'frustration': 42102,\n 'received': 82087,\n 'tablet': 95857,\n 'must': 65662,\n 'increase': 51084,\n 'means': 62239,\n 'acquire': 1068,\n 'internal': 52534,\n 'market': 61268,\n 'through': 100573,\n 'cents': 16913,\n 'kwh': 56306,\n 'allows': 3752,\n 'number': 68401,\n 'slightly': 91039,\n 'different': 28642,\n 'assumption': 7797,\n 'based': 9736,\n 'natural': 66156,\n 'gas': 42853,\n 'efficiency': 32501,\n 'heating': 47168,\n 'numbers': 68490,\n 'were': 108643,\n 'quoted': 81139,\n 'industry': 51462,\n 'felt': 37949,\n 'unrealistic': 104430,\n 'agreed': 2698,\n 'optimistic': 70561,\n 'enormous': 34014,\n 'amount': 4590,\n 'new': 66982,\n 'according': 726,\n 'assuming': 7790,\n 'rather': 81567,\n 'settlement': 89043,\n 'reached': 81696,\n 'figure': 38308,\n 'charge': 17404,\n 'order': 70714,\n 'since': 90497,\n 'necessary': 66321,\n 'exemptionsthere': 36279,\n 'few': 38112,\n 'introduced': 52903,\n 'provide': 79752,\n 'exemptions': 36276,\n 'aqmd': 6679,\n 'republicans': 84014,\n 'asking': 7391,\n 'lift': 57956,\n 'environmental': 34795,\n 'site': 90710,\n 'facility': 37087,\n 'san': 86836,\n 'jose': 54813,\n 'denied': 27351,\n 'local': 58923,\n 'contemplation': 22257,\n 'loosening': 59254,\n 'compliance': 20959,\n 'restrictions': 84687,\n 'allow': 3714,\n 'dirtier': 29006,\n 'tocome': 101371,\n 'might': 63413,\n 'implementation': 50478,\n 'southern': 92179,\n 'moving': 65280,\n 'away': 8813,\n 'theuse': 99319,\n 'credits': 24280,\n 'apparently': 6121,\n 'drives': 30888,\n 'fired': 38858,\n 'democratic': 27284,\n 'moderates': 64204,\n 'pressured': 77812,\n 'advocatesthe': 2050,\n 'moderate': 64201,\n 'sen': 88394,\n 'puc': 80093,\n 'activists': 1271,\n 'afraid': 2245,\n 'harvey': 46135,\n 'rosenfield': 85963,\n 'consumers': 22083,\n 'movement': 65247,\n 'initiative': 51899,\n 'important': 50527,\n 'perspective': 74656,\n 'puts': 80462,\n 'him': 48246,\n 'far': 37433,\n 'challenge': 17165,\n 'defeat': 26802,\n 'election': 32796,\n 'thus': 100749,\n 'distance': 29443,\n 'themselves': 98706,\n 'down': 30456,\n 'effectthe': 32497,\n 'seize': 88196,\n 'insure': 52228,\n 'continued': 22372,\n 'supply': 95173,\n 'apply': 6288,\n 'afederal': 2141,\n 'needed': 66510,\n 'canadian': 15662,\n 'such': 94611,\n 'essentially': 35301,\n 'untouchable': 104590,\n 'smaller': 91140,\n 'ipps': 53333,\n 'squeezemany': 92755,\n 'account': 753,\n 'production': 78748,\n 'amended': 4381,\n 'possibly': 76794,\n 'sometime': 91869,\n 'give': 43796,\n 'producers': 78695,\n 'credit': 24170,\n 'california power': 15080,\n 'power please': 77043,\n 'please contact': 75799,\n 'contact kristin': 22147,\n 'kristin walsh': 56238,\n 'walsh robert': 107325,\n 'robert johnston': 85682,\n 'johnston for': 54719,\n 'for further': 39910,\n 'further clarification': 42489,\n 'clarification executive': 18550,\n 'executive summary': 36250,\n 'summary utility': 94953,\n 'utility bankruptcy': 105490,\n 'bankruptcy appears': 9465,\n 'appears increasingly': 6183,\n 'increasingly likely': 51186,\n 'likely next': 58171,\n 'next week': 67263,\n 'week unless': 108335,\n 'unless state': 104366,\n 'state can': 93089,\n 'can clear': 15464,\n 'clear three': 18694,\n 'three hurdles': 100520,\n 'hurdles agreement': 49669,\n 'agreement payback': 2766,\n 'payback for': 73737,\n 'for bailout': 39687,\n 'bailout rate': 9149,\n 'rate increases': 81472,\n 'increases further': 51162,\n 'further short': 42525,\n 'short term': 89823,\n 'term funding': 96991,\n 'funding for': 42374,\n 'for dwr': 39830,\n 'dwr purchases': 31397,\n 'purchases power': 80305,\n 'power disagreement': 76976,\n 'disagreement persists': 29023,\n 'persists between': 74562,\n 'between gov': 11480,\n 'gov davis': 44449,\n 'davis democrats': 25817,\n 'democrats legislature': 27295,\n 'legislature how': 57416,\n 'how state': 49256,\n 'state should': 93163,\n 'should paid': 89932,\n 'paid back': 72725,\n 'back for': 8970,\n 'its bailout': 53911,\n 'bailout utilities': 9151,\n 'utilities split': 105446,\n 'split over': 92547,\n 'over stock': 72198,\n 'stock warrant': 93751,\n 'warrant plan': 107566,\n 'plan versus': 75522,\n 'versus state': 106221,\n 'state ownership': 93140,\n 'ownership utility': 72471,\n 'utility transmission': 105525,\n 'transmission assets': 102605,\n 'assets economics': 7552,\n 'economics long': 31894,\n 'long term': 59119,\n 'term contracts': 96976,\n 'contracts appear': 22526,\n 'appear show': 6157,\n 'show that': 89991,\n 'that rate': 98001,\n 'rate hikes': 81468,\n 'hikes unavoidable': 48215,\n 'unavoidable because': 103801,\n 'because need': 10156,\n 'need amortize': 66385,\n 'amortize undercollected': 4586,\n 'undercollected rates': 103996,\n 'rates utilities': 81557,\n 'utilities during': 105383,\n 'during recent': 31274,\n 'recent rate': 82159,\n 'rate freeze': 81464,\n 'freeze period': 41342,\n 'period air': 74420,\n 'air quality': 2948,\n 'quality management': 80792,\n 'management district': 60714,\n 'district regulations': 29520,\n 'regulations under': 83049,\n 'under review': 103965,\n 'review but': 85044,\n 'but offer': 14482,\n 'offer limited': 69117,\n 'limited scope': 58250,\n 'scope for': 87455,\n ...}"
          },
          "metadata": {}
        }
      ]
    },
    {
      "metadata": {
        "trusted": true
      },
      "cell_type": "code",
      "source": "# Vectorize the words in the 'Text' column and split the data 80/20\nfrom sklearn.model_selection import train_test_split\n\nvectors = vectorizer.transform(df['Text'])\nx_train, x_test, y_train, y_test = train_test_split(vectors, df['IsSpam'], test_size=0.2, random_state=0)  ",
      "execution_count": 6,
      "outputs": []
    },
    {
      "metadata": {
        "trusted": true
      },
      "cell_type": "code",
      "source": "# Train a Naive Bayes classifier\nfrom sklearn.naive_bayes import MultinomialNB\n\nmodel = MultinomialNB()\nmodel.fit(x_train, y_train)",
      "execution_count": 7,
      "outputs": [
        {
          "output_type": "execute_result",
          "execution_count": 7,
          "data": {
            "text/plain": "MultinomialNB(alpha=1.0, class_prior=None, fit_prior=True)"
          },
          "metadata": {}
        }
      ]
    },
    {
      "metadata": {
        "trusted": true
      },
      "cell_type": "code",
      "source": "from sklearn.metrics import confusion_matrix\n\nconfusion_matrix(y_test, model.predict(x_test))",
      "execution_count": 8,
      "outputs": [
        {
          "output_type": "execute_result",
          "execution_count": 8,
          "data": {
            "text/plain": "array([[101,   1],\n       [  2,  96]])"
          },
          "metadata": {}
        }
      ]
    },
    {
      "metadata": {
        "trusted": true
      },
      "cell_type": "code",
      "source": "# Get the overall accuracy of the model\nmodel.score(x_test, y_test)",
      "execution_count": 9,
      "outputs": [
        {
          "output_type": "execute_result",
          "execution_count": 9,
          "data": {
            "text/plain": "0.985"
          },
          "metadata": {}
        }
      ]
    },
    {
      "metadata": {
        "trusted": true
      },
      "cell_type": "code",
      "source": "# Get the ROC score\nfrom sklearn.metrics import roc_auc_score\n\nprobabilities = model.predict_proba(x_test)\nroc_auc_score(y_test, probabilities[:, 1])",
      "execution_count": 10,
      "outputs": [
        {
          "output_type": "execute_result",
          "execution_count": 10,
          "data": {
            "text/plain": "0.999499799919968"
          },
          "metadata": {}
        }
      ]
    },
    {
      "metadata": {
        "trusted": true
      },
      "cell_type": "code",
      "source": "# Define a function for cleaning text by removing punctuation characters, converting multiple\n# spaces to single spaces, and converting characters to lowercase\nimport string, re\ntable = str.maketrans('', '', string.punctuation)\n\ndef clean_text(text):\n    return re.sub(' +', ' ', text.translate(table).lower())",
      "execution_count": 11,
      "outputs": []
    },
    {
      "metadata": {
        "trusted": true
      },
      "cell_type": "code",
      "source": "# Test a message that is not spam\nmessage = vectorizer.transform([clean_text('Can you attend a code review on Tuesday? Need to make sure the logic is rock solid.')])\nprint(model.predict(message))",
      "execution_count": 12,
      "outputs": [
        {
          "output_type": "stream",
          "text": "[0]\n",
          "name": "stdout"
        }
      ]
    },
    {
      "metadata": {
        "trusted": true
      },
      "cell_type": "code",
      "source": "print(model.predict_proba(message))",
      "execution_count": 13,
      "outputs": [
        {
          "output_type": "stream",
          "text": "[[9.99982697e-01 1.73031242e-05]]\n",
          "name": "stdout"
        }
      ]
    },
    {
      "metadata": {
        "trusted": true
      },
      "cell_type": "code",
      "source": "# Test a message that is spam\nmessage = vectorizer.transform([clean_text('Why pay more for expensive meds when you can order them online and save $$$?')])\nprint(model.predict(message))",
      "execution_count": 14,
      "outputs": [
        {
          "output_type": "stream",
          "text": "[1]\n",
          "name": "stdout"
        }
      ]
    },
    {
      "metadata": {
        "trusted": true,
        "scrolled": true
      },
      "cell_type": "code",
      "source": "print(model.predict_proba(message))",
      "execution_count": 15,
      "outputs": [
        {
          "output_type": "stream",
          "text": "[[6.76841828e-06 9.99993232e-01]]\n",
          "name": "stdout"
        }
      ]
    },
    {
      "metadata": {
        "trusted": true
      },
      "cell_type": "code",
      "source": "",
      "execution_count": null,
      "outputs": []
    }
  ],
  "metadata": {
    "kernelspec": {
      "name": "python36",
      "display_name": "Python 3.6",
      "language": "python"
    },
    "language_info": {
      "mimetype": "text/x-python",
      "nbconvert_exporter": "python",
      "name": "python",
      "pygments_lexer": "ipython3",
      "version": "3.6.6",
      "file_extension": ".py",
      "codemirror_mode": {
        "version": 3,
        "name": "ipython"
      }
    }
  },
  "nbformat": 4,
  "nbformat_minor": 2
}